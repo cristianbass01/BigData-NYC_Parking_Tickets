{
 "cells": [
  {
   "cell_type": "markdown",
   "metadata": {},
   "source": [
    "## Cleaning"
   ]
  },
  {
   "cell_type": "code",
   "execution_count": 1,
   "metadata": {},
   "outputs": [],
   "source": [
    "import pandas as pd\n",
    "\n",
    "base_path = \"../datasets\"\n",
    "dataset = pd.read_parquet(f\"{base_path}/sample_dataset.parquet\", engine=\"pyarrow\")"
   ]
  },
  {
   "cell_type": "markdown",
   "metadata": {},
   "source": [
    "General"
   ]
  },
  {
   "cell_type": "code",
   "execution_count": 2,
   "metadata": {},
   "outputs": [
    {
     "data": {
      "text/plain": [
       "Index(['summons_number', 'plate_id', 'registration_state', 'plate_type',\n",
       "       'issue_date', 'violation_code', 'vehicle_body_type', 'vehicle_make',\n",
       "       'issuing_agency', 'street_code1', 'street_code2', 'street_code3',\n",
       "       'vehicle_expiration_date', 'violation_location', 'violation_precinct',\n",
       "       'issuer_precinct', 'issuer_code', 'issuer_command', 'issuer_squad',\n",
       "       'violation_time', 'time_first_observed', 'violation_county',\n",
       "       'violation_in_front_of_or_opposite', 'house_number', 'street_name',\n",
       "       'intersecting_street', 'date_first_observed', 'law_section',\n",
       "       'sub_division', 'violation_legal_code', 'days_parking_in_effect',\n",
       "       'from_hours_in_effect', 'to_hours_in_effect', 'vehicle_color',\n",
       "       'unregistered_vehicle', 'vehicle_year', 'meter_number',\n",
       "       'feet_from_curb', 'violation_post_code', 'violation_description',\n",
       "       'no_standing_or_stopping_violation', 'hydrant_violation',\n",
       "       'double_parking_violation', 'DataYear'],\n",
       "      dtype='object')"
      ]
     },
     "execution_count": 2,
     "metadata": {},
     "output_type": "execute_result"
    }
   ],
   "source": [
    "dataset.columns"
   ]
  },
  {
   "cell_type": "markdown",
   "metadata": {},
   "source": [
    "## Violation"
   ]
  },
  {
   "cell_type": "markdown",
   "metadata": {},
   "source": [
    "### Dates"
   ]
  },
  {
   "cell_type": "markdown",
   "metadata": {},
   "source": [
    "First observation datetime"
   ]
  },
  {
   "cell_type": "code",
   "execution_count": 3,
   "metadata": {},
   "outputs": [],
   "source": [
    "def format_hour(hour_series):\n",
    "    hour_series = hour_series.str.upper() + \"M\"\n",
    "    hour_series = hour_series.str.replace(r'^00', '12', regex=True)\n",
    "    return pd.to_datetime(hour_series, format=\"%I%M%p\", errors=\"coerce\")"
   ]
  },
  {
   "cell_type": "code",
   "execution_count": 4,
   "metadata": {},
   "outputs": [
    {
     "name": "stdout",
     "output_type": "stream",
     "text": [
      "Percentage of initial NaNs: 93.40%\n",
      "Percentage of final NaNs: 94.55%\n",
      "Percentage of NaNs removed: 1.15%\n"
     ]
    }
   ],
   "source": [
    "initial_nan = dataset['time_first_observed'].isna().sum()\n",
    "dataset['time_first_observed'] = format_hour(dataset['time_first_observed'])\n",
    "final_nan = dataset['time_first_observed'].isna().sum()\n",
    "\n",
    "print(f\"Percentage of initial NaNs: {initial_nan / len(dataset) * 100:.2f}%\")\n",
    "print(f\"Percentage of final NaNs: {final_nan / len(dataset) * 100:.2f}%\")\n",
    "print(f\"Percentage of NaNs removed: {(final_nan - initial_nan) / len(dataset) * 100:.2f}%\")"
   ]
  },
  {
   "cell_type": "code",
   "execution_count": 5,
   "metadata": {},
   "outputs": [
    {
     "name": "stdout",
     "output_type": "stream",
     "text": [
      "Percentage of initial NaNs: 98.76%\n",
      "Percentage of final NaNs: 98.76%\n",
      "Percentage of NaNs removed: 0.00%\n"
     ]
    }
   ],
   "source": [
    "# replace 0 with NaN\n",
    "dataset['date_first_observed'] = dataset['date_first_observed'].replace('0', pd.NaT)\n",
    "# replace 0001-01-03T12:00:00.000 with NaN\n",
    "dataset['date_first_observed'] = dataset['date_first_observed'].replace('0001-01-03T12:00:00.000', pd.NaT)\n",
    "\n",
    "initial_nan = dataset['date_first_observed'].isna().sum()\n",
    "dataset['date_first_observed'] = pd.to_datetime(dataset['date_first_observed'], format='%Y%m%d', errors='coerce')\n",
    "final_nan = dataset['date_first_observed'].isna().sum()\n",
    "\n",
    "print(f\"Percentage of initial NaNs: {initial_nan / len(dataset) * 100:.2f}%\")\n",
    "print(f\"Percentage of final NaNs: {final_nan / len(dataset) * 100:.2f}%\")\n",
    "print(f\"Percentage of NaNs removed: {(final_nan - initial_nan) / len(dataset) * 100:.2f}%\")"
   ]
  },
  {
   "cell_type": "code",
   "execution_count": 6,
   "metadata": {},
   "outputs": [],
   "source": [
    "# merge the date and time\n",
    "dataset['date_first_observed'] = pd.to_datetime(dataset[\"date_first_observed\"].dt.strftime('%Y-%m-%d') + ' ' + dataset[\"time_first_observed\"].dt.strftime('%H:%M:%S'))\n",
    "dataset = dataset.drop([\"time_first_observed\"], axis=1)"
   ]
  },
  {
   "cell_type": "markdown",
   "metadata": {},
   "source": [
    "Issue Datetime"
   ]
  },
  {
   "cell_type": "code",
   "execution_count": 7,
   "metadata": {},
   "outputs": [],
   "source": [
    "# convert the date to the same format as the weather data\n",
    "dataset['issue_date'] = pd.to_datetime(dataset[\"issue_date\"], format=\"mixed\")\n",
    "\n",
    "# format the hour\n",
    "dataset['violation_time'] = format_hour(dataset['violation_time'])\n",
    "\n",
    "# combine the date and time\n",
    "dataset['issue_date'] = pd.to_datetime(dataset[\"issue_date\"].dt.strftime('%Y-%m-%d') + ' ' + dataset[\"violation_time\"].dt.strftime('%H:%M:%S'))\n",
    "dataset = dataset.drop([\"violation_time\"], axis=1)"
   ]
  },
  {
   "cell_type": "markdown",
   "metadata": {},
   "source": [
    "### Location and codes"
   ]
  },
  {
   "cell_type": "code",
   "execution_count": 8,
   "metadata": {},
   "outputs": [],
   "source": [
    "# 0 is used as nan in parking violation codes\n",
    "dataset['violation_code'] = dataset['violation_code'].replace(0, pd.NA)"
   ]
  },
  {
   "cell_type": "markdown",
   "metadata": {},
   "source": [
    "Violation county"
   ]
  },
  {
   "cell_type": "code",
   "execution_count": 9,
   "metadata": {},
   "outputs": [],
   "source": [
    "# translate the county names to the borough names\n",
    "county_to_borough = {\n",
    "    \"BRONX\": \"BX\", # Bronx\n",
    "    \"BX\": \"BX\",\n",
    "    \"Bronx\": \"BX\",\n",
    "    \"BRONX\": \"BX\",\n",
    "    \"BK\": \"K\", # Brooklyn known as Kings\n",
    "    \"K\": \"K\",\n",
    "    \"Kings\": \"K\",\n",
    "    \"KINGS\": \"K\",\n",
    "    \"KING\": \"K\",\n",
    "    \"Q\": \"Q\", # Queens\n",
    "    \"QN\": \"Q\",\n",
    "    \"Qns\": \"Q\",\n",
    "    \"QUEEN\": \"Q\",\n",
    "    \"QUEENS\": \"Q\",\n",
    "    \"QNS\": \"Q\",\n",
    "    \"QU\": \"Q\",\n",
    "    \"NY\": \"NY\", # Manhattan known as New York\n",
    "    \"MN\": \"NY\",\n",
    "    \"MAN\": \"NY\",\n",
    "    \"NEW Y\": \"NY\",\n",
    "    \"NEWY\": \"NY\",\n",
    "    \"NYC\": \"NY\",\n",
    "    \"ST\": \"R\", # Staten Island known as Richmond\n",
    "    \"R\": \"R\",\n",
    "    \"Rich\": \"R\",\n",
    "    \"RICH\": \"R\",\n",
    "    \"RICHM\": \"R\",\n",
    "    \"RC\": \"R\",\n",
    "    \"MH\": \"NY\",\n",
    "    \"MS\": \"NY\",\n",
    "    \"N\": \"NY\",\n",
    "    \"P\": \"NY\",\n",
    "    \"PBX\": \"NY\",\n",
    "    \"USA\": \"NY\",\n",
    "    \"VINIS\": \"NY\",\n",
    "    \"A\": pd.NA,\n",
    "    \"F\": pd.NA,\n",
    "    \"ABX\": pd.NA,\n",
    "    \"108\": pd.NA,\n",
    "    \"103\": \"R\", # Staten Island zip code\n",
    "    \"00000\": pd.NA,\n",
    "    \"K   F\": pd.NA,\n",
    "}\n",
    "\n",
    "dataset['violation_county'] = dataset['violation_county'].map(county_to_borough)"
   ]
  },
  {
   "cell_type": "markdown",
   "metadata": {},
   "source": [
    "Street code"
   ]
  },
  {
   "cell_type": "code",
   "execution_count": 10,
   "metadata": {},
   "outputs": [],
   "source": [
    "dataset['street_code'] = dataset['street_code1'].where(dataset['street_code1'] != 0, dataset['street_code2'].where(dataset['street_code2'] != 0, dataset['street_code3'])).astype(\"string\")\n",
    "dataset['street_code'] = dataset['street_code'].replace('0', pd.NA)\n",
    "dataset = dataset.drop([\"street_code1\", \"street_code2\", \"street_code3\"], axis=1)"
   ]
  },
  {
   "cell_type": "markdown",
   "metadata": {},
   "source": [
    "violation_location"
   ]
  },
  {
   "cell_type": "code",
   "execution_count": 11,
   "metadata": {},
   "outputs": [
    {
     "data": {
      "text/plain": [
       "violation_location\n",
       "<NA>    403433\n",
       "19       53356\n",
       "14       38131\n",
       "18       36866\n",
       "114      33911\n",
       "         ...  \n",
       "804          1\n",
       "164          1\n",
       "160          1\n",
       "919          1\n",
       "57           1\n",
       "Name: count, Length: 154, dtype: int64"
      ]
     },
     "execution_count": 11,
     "metadata": {},
     "output_type": "execute_result"
    }
   ],
   "source": [
    "dataset['violation_location'] = dataset['violation_location'].fillna(\"0\")\n",
    "dataset['violation_location'] = dataset['violation_location'].astype(int).astype(str)\n",
    "dataset['violation_location'] = dataset['violation_location'].replace('0', pd.NA)\n",
    "dataset['violation_location'].value_counts(dropna=False)"
   ]
  },
  {
   "cell_type": "markdown",
   "metadata": {},
   "source": [
    "Violation precint is the same as violation location"
   ]
  },
  {
   "cell_type": "markdown",
   "metadata": {},
   "source": [
    "## Vehicle"
   ]
  },
  {
   "cell_type": "markdown",
   "metadata": {},
   "source": [
    "### Codes"
   ]
  },
  {
   "cell_type": "code",
   "execution_count": 12,
   "metadata": {},
   "outputs": [],
   "source": [
    "dataset['vehicle_make'] = dataset['vehicle_make'].str.upper()"
   ]
  },
  {
   "cell_type": "code",
   "execution_count": 13,
   "metadata": {},
   "outputs": [
    {
     "name": "stdout",
     "output_type": "stream",
     "text": [
      "Vehicle make values with less than 100 counts: 1354\n",
      "Total vehicle make values: 1447\n",
      "Percentage of vehicle make values with less than 100 counts: 93.57%\n",
      "Remaining vehicle make values: 93\n"
     ]
    }
   ],
   "source": [
    "# check how many vehicle make values are less than 100\n",
    "vehicle_make_counts = dataset['vehicle_make'].value_counts()\n",
    "vehicle_make_counts = vehicle_make_counts[vehicle_make_counts < 100]\n",
    "print(f\"Vehicle make values with less than 100 counts: {len(vehicle_make_counts)}\")\n",
    "print(f'Total vehicle make values: {len(dataset[\"vehicle_make\"].unique())}')\n",
    "print(f'Percentage of vehicle make values with less than 100 counts: {len(vehicle_make_counts) / len(dataset[\"vehicle_make\"].unique()) * 100:.2f}%')\n",
    "print(f'Remaining vehicle make values: {len(dataset[\"vehicle_make\"].unique()) - len(vehicle_make_counts)}')\n",
    "\n",
    "# replace the vehicle make values with less than 100 counts with \"OTHER\"\n",
    "dataset['vehicle_make'] = dataset['vehicle_make'].where(~dataset['vehicle_make'].isin(vehicle_make_counts.index), \"OTHER\")"
   ]
  },
  {
   "cell_type": "markdown",
   "metadata": {},
   "source": [
    "### Dates"
   ]
  },
  {
   "cell_type": "code",
   "execution_count": 14,
   "metadata": {},
   "outputs": [],
   "source": [
    "# replace wrong year with NaN (years greater than now or 0)\n",
    "current_year = pd.Timestamp.now().year\n",
    "dataset['vehicle_year'] = dataset['vehicle_year'].where(dataset['vehicle_year'] <= current_year, pd.NA)\n",
    "dataset['vehicle_year'] = dataset['vehicle_year'].replace(0, pd.NA)"
   ]
  },
  {
   "cell_type": "code",
   "execution_count": 15,
   "metadata": {},
   "outputs": [
    {
     "name": "stdout",
     "output_type": "stream",
     "text": [
      "Percentage of initial NaNs: 6.85%\n",
      "Percentage of final NaNs: 60.22%\n",
      "Percentage of NaNs removed: 53.37%\n"
     ]
    }
   ],
   "source": [
    "initial_nan = dataset['vehicle_expiration_date'].isna().sum()\n",
    "dataset['vehicle_expiration_date'] = pd.to_datetime(dataset['vehicle_expiration_date'], format='%Y%m%d', errors='coerce')\n",
    "final_nan = dataset['vehicle_expiration_date'].isna().sum()\n",
    "\n",
    "print(f\"Percentage of initial NaNs: {initial_nan / len(dataset) * 100:.2f}%\")\n",
    "print(f\"Percentage of final NaNs: {final_nan / len(dataset) * 100:.2f}%\")\n",
    "print(f\"Percentage of NaNs removed: {(final_nan - initial_nan) / len(dataset) * 100:.2f}%\")"
   ]
  },
  {
   "cell_type": "markdown",
   "metadata": {},
   "source": [
    "### Registration"
   ]
  },
  {
   "cell_type": "markdown",
   "metadata": {},
   "source": [
    "Infos about US state codes and plate types: https://www.nyc.gov/html/dof/html/pdf/faq/stars_codes.pdf"
   ]
  },
  {
   "cell_type": "markdown",
   "metadata": {},
   "source": [
    "Registration State and Plate Type"
   ]
  },
  {
   "cell_type": "code",
   "execution_count": 16,
   "metadata": {},
   "outputs": [
    {
     "name": "stdout",
     "output_type": "stream",
     "text": [
      "Total number of codes: 67\n",
      "Total number of plate ids: 87\n"
     ]
    }
   ],
   "source": [
    "codes = \"AL ALABAMA MT MONTANA AK ALASKA NE NEBRASKA AZ ARIZONA NV NEVADA AR ARKANSAS NH NEW HAMPSHIRE CA CALIFORNIA NJ NEW JERSEY CO COLORADO NM NEW MEXICO CT CONNECTICUT NY NEW YORK DE DELAWARE NC NORTH CAROLINA FL FLORIDA ND NORTH DAKOTA GA GEORGIA OH OHIO HI HAWAII OK OKLAHOMA ID IDAHO OR OREGON IL ILLINOIS PA PENNSYLVANIA IN INDIANA RI RHODE ISLAND IA IOWA SC SOUTH CAROLINA KS KANSAS SD SOUTH DAKOTA KY KENTUCKY TN TENNESSEE LA LOUISIANA TX TEXAS ME MAINE UT UTAH MD MARYLAND VT VERMONT MA MASSACHUSETTS VA VIRGINIA MI MICHIGAN WA WASHINGTON MN MINNESOTA WV WEST VIRGINIA MS MISSISSIPPI WI WISCONSIN MO MISSOURI WY WYOMING AB Alberta ON Ontario BC British Columbia PE Prince Edward Island FO Foreign QB Quebec MB Manitoba SK Saskatchewan MX Mexico GV U.S. Government NB New Brunswick DP U.S. State Dept. NF Newfoundland DC Washington D.C. NT Northwest Territories YT Yukon Territory NS Nova Scotia\"\n",
    "codes = codes.split()\n",
    "codes = [code for code in codes if code.isupper() and len(code) == 2]\n",
    "print(f'Total number of codes: {len(codes)}')\n",
    "\n",
    "plate_types = \"AGR Agricultural Vehicle MCD Motorcycle Dealer AMB Ambulance MCL Marine Corps League ARG Air National Guard MED Medical Doctor ATD All Terrain Deale MOT Motorcycle ATV All Terrain Vehicle NLM Naval Militia AYG Army National Guard NYA New York Assembly BOB Birthplace of Baseball NYC New York City Council BOT Boat NYS New York Senate CBS County Bd. of Supervisors OMF Omnibus Public Service CCK County Clerk OML Livery CHC  Household Carrier (Com) OMO Omnibus Out-of-State CLG County Legislators OMR Bus CMB Combination - Connecticut OMS Rental CME  Coroner Medical Examiner OMT Taxi CMH Congress. Medal of Honor OMV Omnibus Vanity COM Commercial Vehicle ORC Organization (Com) CSP Sports (Com) ORG Organization (Pas) DLR Dealer PAS Passenger EDU Educator PHS Pearl Harbor Survivors FAR Farm vehicle PPH Purple Heart FPW Former Prisoner of War PSD Political Subd. (Official) GAC Governor's Additional Car RGC Regional (Com) GFC Gift Certificate RGL Regional (Pas) GSC Governor's Second Car SCL School Car GSM Gold Star Mothers SNO Snowmobile HAC Ham Operator Comm SOS Survivors of the Shield HAM Ham Operator SPC Special Purpose Comm. HIF Special Reg.Hearse SPO Sports HIR Hearse Coach SRF Special Passenger - Vanity HIS Historical Vehicle SRN Special Passenger - Judges HOU House/Coach Trailer STA State Agencies HSM Historical Motorcycle STG State National Guard IRP Intl. Registration Plan SUP Justice Supreme Court ITP In Transit Permit TOW Tow Truck JCA Justice Court of Appeals TRA Transporter JCL Justice Court of Claims THC Household Carrier Tractor JSC Supreme Court Appl. Div TRC Tractor Regular JWV Jewish War Veterans TRL Trailer Regular LMA Class A Limited Use Mtrcyl. USC U. S. Congress LMB Class B Limited Use Mtrcyl. USS U. S. Senate LMC Class C Limited Use Mtrcyl. VAS Voluntary Ambulance Svc. LOC Locomotive VPL Van Pool LTR Light Trailer WUG World University Games LUA Limited Use Automobile\"\n",
    "plate_types = plate_types.split()\n",
    "plate_types = [plate_id for plate_id in plate_types if plate_id.isupper() and len(plate_id) == 3]\n",
    "print(f'Total number of plate types: {len(plate_types)}')"
   ]
  },
  {
   "cell_type": "code",
   "execution_count": 17,
   "metadata": {},
   "outputs": [],
   "source": [
    "# Registration state should be in the codes\n",
    "dataset['registration_state'] = dataset['registration_state'].where(dataset['registration_state'].isin(codes), pd.NA)\n",
    "\n",
    "# Plate type should be in the plate ids\n",
    "dataset['plate_type'] = dataset['plate_type'].where(dataset['plate_type'].isin(plate_types), pd.NA)"
   ]
  },
  {
   "cell_type": "markdown",
   "metadata": {},
   "source": [
    "Plate ID"
   ]
  },
  {
   "cell_type": "code",
   "execution_count": 18,
   "metadata": {},
   "outputs": [],
   "source": [
    "dataset['plate_id'] = dataset['plate_id'].str.upper()\n",
    "dataset['plate_id'] = dataset['plate_id'].replace('BLANKPLATE', pd.NA)\n",
    "\n",
    "# if the plate_id is less than 5 characters, replace it with NaN\n",
    "dataset['plate_id'] = dataset['plate_id'].where(dataset['plate_id'].str.len() >= 5, pd.NA)\n",
    "\n",
    "# if the plate_id is more than 8 characters, replace it with NaN\n",
    "dataset['plate_id'] = dataset['plate_id'].where(dataset['plate_id'].str.len() <= 8, pd.NA)\n",
    "\n",
    "# if the plate_id contains special characters, replace it with NaN\n",
    "dataset['plate_id'] = dataset['plate_id'].where(dataset['plate_id'].str.match(r'^[A-Z0-9]*$'), pd.NA)"
   ]
  },
  {
   "cell_type": "markdown",
   "metadata": {},
   "source": [
    "vehicle body type: Too many vehicle body types and too many spellings to clean"
   ]
  },
  {
   "cell_type": "markdown",
   "metadata": {},
   "source": [
    "## Precint"
   ]
  },
  {
   "cell_type": "markdown",
   "metadata": {},
   "source": [
    "issuing_agency: Not really understandable"
   ]
  },
  {
   "cell_type": "markdown",
   "metadata": {},
   "source": [
    "violation_precinct"
   ]
  },
  {
   "cell_type": "code",
   "execution_count": 19,
   "metadata": {},
   "outputs": [
    {
     "name": "stdout",
     "output_type": "stream",
     "text": [
      "Differences between precinct and violation location: 0\n"
     ]
    }
   ],
   "source": [
    "dataset['violation_precinct'] = dataset['violation_precinct'].replace(0, pd.NA)\n",
    "\n",
    "differences_precint_violation = dataset['violation_location'].astype(str) != dataset['violation_precinct'].astype(str)\n",
    "differences_precint_violation = differences_precint_violation.sum()\n",
    "print(f\"Differences between precinct and violation location: {differences_precint_violation}\")"
   ]
  },
  {
   "cell_type": "code",
   "execution_count": 20,
   "metadata": {},
   "outputs": [],
   "source": [
    "dataset = dataset.drop([\"violation_location\"], axis=1)"
   ]
  },
  {
   "cell_type": "markdown",
   "metadata": {},
   "source": [
    "Issuer_precinct, issuer_code, issuer_command, issuer_squad"
   ]
  },
  {
   "cell_type": "code",
   "execution_count": 21,
   "metadata": {},
   "outputs": [],
   "source": [
    "dataset['issuer_precinct'] = dataset['issuer_precinct'].replace(0, pd.NA)\n",
    "dataset['issuer_code'] = dataset['issuer_code'].replace(0, pd.NA)"
   ]
  },
  {
   "cell_type": "markdown",
   "metadata": {},
   "source": [
    "- Law_section: Section of the law or code related to the violation\n",
    "- sub_division: Sub-division or additional information related to the violation\n",
    "- violation_legal_code: Legal code related to the violation (0 or T)\n",
    "- days_parking_in_effect: Days of the week when parking regulations are in effect (insert B as blank space and make sure every item has 7 chars)"
   ]
  },
  {
   "cell_type": "code",
   "execution_count": 22,
   "metadata": {},
   "outputs": [],
   "source": [
    "dataset['law_section'] = dataset['law_section'].replace(0, pd.NA)\n",
    "\n",
    "# Replace missing values (NA) with an empty string\n",
    "dataset['days_parking_in_effect'] = dataset['days_parking_in_effect'].fillna('')\n",
    "\n",
    "# Define a function to pad and replace blank spots with 'B'\n",
    "def pad_parking_days(parking_days):\n",
    "    # Replace spaces with 'B' and pad the string to 7 characters with 'B'\n",
    "    parking_days = parking_days.replace(' ', 'B')\n",
    "    return parking_days.ljust(7, 'B')\n",
    "\n",
    "dataset['days_parking_in_effect'] = dataset['days_parking_in_effect'].apply(pad_parking_days)"
   ]
  },
  {
   "cell_type": "markdown",
   "metadata": {},
   "source": [
    "- from_hours_in_effect: Starting time when parking regulations are in effect\n",
    "- to_hours_in_effect: Ending time when parking regulations are in effect"
   ]
  },
  {
   "cell_type": "code",
   "execution_count": 23,
   "metadata": {},
   "outputs": [],
   "source": [
    "dataset['from_hours_in_effect'] = format_hour(dataset['from_hours_in_effect']).dt.time\n",
    "dataset['to_hours_in_effect'] = format_hour(dataset['to_hours_in_effect']).dt.time"
   ]
  },
  {
   "cell_type": "markdown",
   "metadata": {},
   "source": [
    "- vehicle_color: too many colors to clean\n",
    "- unregistered_vehicle: change to True/False\n",
    "- meter_number: Number\n",
    "- feet_from_curb: No issues\n",
    "- violation_post_code: Not sure why it has letters on it\n",
    "- violation_description: Textual details\n",
    "- no_standing_or_stopping_violation, hydrant_violation and double_parking_violation: seems to be all None"
   ]
  },
  {
   "cell_type": "code",
   "execution_count": 25,
   "metadata": {},
   "outputs": [],
   "source": [
    "dataset['unregistered_vehicle'] = dataset['unregistered_vehicle'].notna() & (dataset['unregistered_vehicle'] == '0')\n",
    "dataset['unregistered_vehicle'] = dataset['unregistered_vehicle'].astype(bool)"
   ]
  },
  {
   "cell_type": "code",
   "execution_count": 33,
   "metadata": {},
   "outputs": [
    {
     "data": {
      "text/plain": [
       "double_parking_violation\n",
       "<NA>    1404261\n",
       "Name: count, dtype: Int64"
      ]
     },
     "execution_count": 33,
     "metadata": {},
     "output_type": "execute_result"
    }
   ],
   "source": [
    "dataset['meter_number'] = dataset['meter_number'].replace('-', pd.NA)"
   ]
  },
  {
   "cell_type": "markdown",
   "metadata": {},
   "source": [
    "### Final result"
   ]
  },
  {
   "cell_type": "code",
   "execution_count": 29,
   "metadata": {},
   "outputs": [
    {
     "data": {
      "text/html": [
       "<div>\n",
       "<style scoped>\n",
       "    .dataframe tbody tr th:only-of-type {\n",
       "        vertical-align: middle;\n",
       "    }\n",
       "\n",
       "    .dataframe tbody tr th {\n",
       "        vertical-align: top;\n",
       "    }\n",
       "\n",
       "    .dataframe thead th {\n",
       "        text-align: right;\n",
       "    }\n",
       "</style>\n",
       "<table border=\"1\" class=\"dataframe\">\n",
       "  <thead>\n",
       "    <tr style=\"text-align: right;\">\n",
       "      <th></th>\n",
       "      <th>summons_number</th>\n",
       "      <th>plate_id</th>\n",
       "      <th>registration_state</th>\n",
       "      <th>plate_type</th>\n",
       "      <th>issue_date</th>\n",
       "      <th>violation_code</th>\n",
       "      <th>vehicle_body_type</th>\n",
       "      <th>vehicle_make</th>\n",
       "      <th>issuing_agency</th>\n",
       "      <th>vehicle_expiration_date</th>\n",
       "      <th>...</th>\n",
       "      <th>vehicle_year</th>\n",
       "      <th>meter_number</th>\n",
       "      <th>feet_from_curb</th>\n",
       "      <th>violation_post_code</th>\n",
       "      <th>violation_description</th>\n",
       "      <th>no_standing_or_stopping_violation</th>\n",
       "      <th>hydrant_violation</th>\n",
       "      <th>double_parking_violation</th>\n",
       "      <th>DataYear</th>\n",
       "      <th>street_code</th>\n",
       "    </tr>\n",
       "  </thead>\n",
       "  <tbody>\n",
       "    <tr>\n",
       "      <th>30356</th>\n",
       "      <td>5069663409</td>\n",
       "      <td>HSP9388</td>\n",
       "      <td>PA</td>\n",
       "      <td>PAS</td>\n",
       "      <td>2013-07-20 18:09:00</td>\n",
       "      <td>7</td>\n",
       "      <td>CP</td>\n",
       "      <td>DODGE</td>\n",
       "      <td>V</td>\n",
       "      <td>NaT</td>\n",
       "      <td>...</td>\n",
       "      <td>1998</td>\n",
       "      <td>&lt;NA&gt;</td>\n",
       "      <td>0</td>\n",
       "      <td>&lt;NA&gt;</td>\n",
       "      <td>FAILURE TO STOP AT RED LIGHT</td>\n",
       "      <td>&lt;NA&gt;</td>\n",
       "      <td>&lt;NA&gt;</td>\n",
       "      <td>&lt;NA&gt;</td>\n",
       "      <td>2014</td>\n",
       "      <td>&lt;NA&gt;</td>\n",
       "    </tr>\n",
       "    <tr>\n",
       "      <th>87255</th>\n",
       "      <td>7433097510</td>\n",
       "      <td>T466979C</td>\n",
       "      <td>NY</td>\n",
       "      <td>OMT</td>\n",
       "      <td>2013-07-29 08:06:00</td>\n",
       "      <td>21</td>\n",
       "      <td>SUBN</td>\n",
       "      <td>TOYOT</td>\n",
       "      <td>T</td>\n",
       "      <td>2014-06-30</td>\n",
       "      <td>...</td>\n",
       "      <td>2013</td>\n",
       "      <td>&lt;NA&gt;</td>\n",
       "      <td>0</td>\n",
       "      <td>H -</td>\n",
       "      <td>21-No Parking (street clean)</td>\n",
       "      <td>&lt;NA&gt;</td>\n",
       "      <td>&lt;NA&gt;</td>\n",
       "      <td>&lt;NA&gt;</td>\n",
       "      <td>2014</td>\n",
       "      <td>51090</td>\n",
       "    </tr>\n",
       "    <tr>\n",
       "      <th>11675</th>\n",
       "      <td>1358115771</td>\n",
       "      <td>49722JG</td>\n",
       "      <td>NY</td>\n",
       "      <td>COM</td>\n",
       "      <td>2013-07-10 09:44:00</td>\n",
       "      <td>19</td>\n",
       "      <td>VAN</td>\n",
       "      <td>MAZDA</td>\n",
       "      <td>X</td>\n",
       "      <td>NaT</td>\n",
       "      <td>...</td>\n",
       "      <td>1995</td>\n",
       "      <td>-</td>\n",
       "      <td>0</td>\n",
       "      <td>&lt;NA&gt;</td>\n",
       "      <td>&lt;NA&gt;</td>\n",
       "      <td>&lt;NA&gt;</td>\n",
       "      <td>&lt;NA&gt;</td>\n",
       "      <td>&lt;NA&gt;</td>\n",
       "      <td>2014</td>\n",
       "      <td>&lt;NA&gt;</td>\n",
       "    </tr>\n",
       "    <tr>\n",
       "      <th>91091</th>\n",
       "      <td>7780960298</td>\n",
       "      <td>K5669F</td>\n",
       "      <td>TN</td>\n",
       "      <td>PAS</td>\n",
       "      <td>2013-07-29 14:36:00</td>\n",
       "      <td>14</td>\n",
       "      <td>4DSD</td>\n",
       "      <td>DODGE</td>\n",
       "      <td>T</td>\n",
       "      <td>NaT</td>\n",
       "      <td>...</td>\n",
       "      <td>&lt;NA&gt;</td>\n",
       "      <td>&lt;NA&gt;</td>\n",
       "      <td>0</td>\n",
       "      <td>35 -</td>\n",
       "      <td>14-No Standing</td>\n",
       "      <td>&lt;NA&gt;</td>\n",
       "      <td>&lt;NA&gt;</td>\n",
       "      <td>&lt;NA&gt;</td>\n",
       "      <td>2014</td>\n",
       "      <td>68020</td>\n",
       "    </tr>\n",
       "    <tr>\n",
       "      <th>36443</th>\n",
       "      <td>5069699234</td>\n",
       "      <td>EEV3130</td>\n",
       "      <td>NY</td>\n",
       "      <td>PAS</td>\n",
       "      <td>2013-07-21 22:07:00</td>\n",
       "      <td>7</td>\n",
       "      <td>2DSD</td>\n",
       "      <td>ME/BE</td>\n",
       "      <td>V</td>\n",
       "      <td>NaT</td>\n",
       "      <td>...</td>\n",
       "      <td>2004</td>\n",
       "      <td>&lt;NA&gt;</td>\n",
       "      <td>0</td>\n",
       "      <td>&lt;NA&gt;</td>\n",
       "      <td>FAILURE TO STOP AT RED LIGHT</td>\n",
       "      <td>&lt;NA&gt;</td>\n",
       "      <td>&lt;NA&gt;</td>\n",
       "      <td>&lt;NA&gt;</td>\n",
       "      <td>2014</td>\n",
       "      <td>&lt;NA&gt;</td>\n",
       "    </tr>\n",
       "  </tbody>\n",
       "</table>\n",
       "<p>5 rows × 40 columns</p>\n",
       "</div>"
      ],
      "text/plain": [
       "       summons_number  plate_id registration_state plate_type  \\\n",
       "30356      5069663409   HSP9388                 PA        PAS   \n",
       "87255      7433097510  T466979C                 NY        OMT   \n",
       "11675      1358115771   49722JG                 NY        COM   \n",
       "91091      7780960298    K5669F                 TN        PAS   \n",
       "36443      5069699234   EEV3130                 NY        PAS   \n",
       "\n",
       "               issue_date violation_code vehicle_body_type vehicle_make  \\\n",
       "30356 2013-07-20 18:09:00              7                CP        DODGE   \n",
       "87255 2013-07-29 08:06:00             21              SUBN        TOYOT   \n",
       "11675 2013-07-10 09:44:00             19               VAN        MAZDA   \n",
       "91091 2013-07-29 14:36:00             14              4DSD        DODGE   \n",
       "36443 2013-07-21 22:07:00              7              2DSD        ME/BE   \n",
       "\n",
       "      issuing_agency vehicle_expiration_date  ... vehicle_year  meter_number  \\\n",
       "30356              V                     NaT  ...         1998          <NA>   \n",
       "87255              T              2014-06-30  ...         2013          <NA>   \n",
       "11675              X                     NaT  ...         1995             -   \n",
       "91091              T                     NaT  ...         <NA>          <NA>   \n",
       "36443              V                     NaT  ...         2004          <NA>   \n",
       "\n",
       "       feet_from_curb  violation_post_code         violation_description  \\\n",
       "30356               0                 <NA>  FAILURE TO STOP AT RED LIGHT   \n",
       "87255               0                  H -  21-No Parking (street clean)   \n",
       "11675               0                 <NA>                          <NA>   \n",
       "91091               0                 35 -                14-No Standing   \n",
       "36443               0                 <NA>  FAILURE TO STOP AT RED LIGHT   \n",
       "\n",
       "      no_standing_or_stopping_violation hydrant_violation  \\\n",
       "30356                              <NA>              <NA>   \n",
       "87255                              <NA>              <NA>   \n",
       "11675                              <NA>              <NA>   \n",
       "91091                              <NA>              <NA>   \n",
       "36443                              <NA>              <NA>   \n",
       "\n",
       "      double_parking_violation DataYear street_code  \n",
       "30356                     <NA>     2014        <NA>  \n",
       "87255                     <NA>     2014       51090  \n",
       "11675                     <NA>     2014        <NA>  \n",
       "91091                     <NA>     2014       68020  \n",
       "36443                     <NA>     2014        <NA>  \n",
       "\n",
       "[5 rows x 40 columns]"
      ]
     },
     "execution_count": 29,
     "metadata": {},
     "output_type": "execute_result"
    }
   ],
   "source": [
    "dataset.head()"
   ]
  },
  {
   "cell_type": "code",
   "execution_count": 10,
   "metadata": {},
   "outputs": [],
   "source": [
    "dataset.to_parquet(f\"{base_path}/sample_data_cleaned.parquet\", engine=\"pyarrow\")"
   ]
  }
 ],
 "metadata": {
  "kernelspec": {
   "display_name": "bd39",
   "language": "python",
   "name": "python3"
  },
  "language_info": {
   "codemirror_mode": {
    "name": "ipython",
    "version": 3
   },
   "file_extension": ".py",
   "mimetype": "text/x-python",
   "name": "python",
   "nbconvert_exporter": "python",
   "pygments_lexer": "ipython3",
   "version": "3.9.19"
  }
 },
 "nbformat": 4,
 "nbformat_minor": 2
}
